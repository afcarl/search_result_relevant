{
 "metadata": {
  "kernelspec": {
   "display_name": "Python 2",
   "language": "python",
   "name": "python2"
  },
  "language_info": {
   "codemirror_mode": {
    "name": "ipython",
    "version": 2
   },
   "file_extension": ".py",
   "mimetype": "text/x-python",
   "name": "python",
   "nbconvert_exporter": "python",
   "pygments_lexer": "ipython2",
   "version": "2.7.9"
  },
  "name": "",
  "signature": "sha256:531a7355a8eed1c9faf03d51dc3636b3e250dbd29651c910c5dc566d9b90ae94"
 },
 "nbformat": 3,
 "nbformat_minor": 0,
 "worksheets": [
  {
   "cells": [
    {
     "cell_type": "code",
     "collapsed": false,
     "input": [
      "from bs4 import BeautifulSoup\n",
      "import re\n",
      "from nltk.corpus import stopwords\n",
      "import nltk.data\n",
      "from gensim.models import word2vec\n",
      "import pandas as pd\n",
      "\n",
      "#  wget http://www.nltk.org/nltk_data/packages/tokenizers/punkt.zip\n",
      "# Extract it in ~/nltk_data/packages/tokenizers/\n",
      "tokenizer = nltk.data.load('tokenizers/punkt/english.pickle')\n",
      "\n",
      "def description_to_wordlist( description, remove_stopwords=False ):\n",
      "    # Convert a document to a sequence of words,\n",
      "    # optionally removing stop words.  Returns a list of words.\n",
      "\n",
      "    des_text = BeautifulSoup(description).get_text()\n",
      "    des_text = re.sub(\"[^a-zA-Z]\",\" \", des_text)\n",
      "    words = des_text.lower().split()\n",
      "   \n",
      "    if remove_stopwords:\n",
      "        stops = set(stopwords.words(\"english\"))\n",
      "        words = [w for w in words if not w in stops]\n",
      "  \n",
      "    return(words)\n",
      "\n",
      "def description_to_sentences( description, tokenizer, remove_stopwords=False ):\n",
      "    # Split a paragraph into parsed sentences. Returns a \n",
      "    # list of sentences, where each sentence is a list of words\n",
      "    \n",
      "    raw_sentences = tokenizer.tokenize(description.strip())\n",
      "    sentences = []\n",
      "    for raw_sentence in raw_sentences:\n",
      "        \n",
      "        if len(raw_sentence) > 0:\n",
      "            sentences.append( description_to_wordlist( raw_sentence, \\\n",
      "              remove_stopwords ))\n",
      "            \n",
      "    return sentences\n",
      "\n",
      "\n",
      "def train_w2v(sentences_list, num_features=300, min_word_count=10, \n",
      "              num_workers=4, context=5, downsampling=1e-3):\n",
      "    # num_features = word vector dimensionality                      \n",
      "    # min_word_count = minimum word count                        \n",
      "    # num_workers = number of threads\n",
      "    # context = context window size                                                                                    \n",
      "    # downsampling = downsample frequent words\n",
      "\n",
      "    # Initialize and train the model\n",
      "\n",
      "    print \"Training model...\"\n",
      "    model = word2vec.Word2Vec(sentences_list, workers=num_workers, \\\n",
      "                size=num_features, min_count = min_word_count, \\\n",
      "                window = context, sample = downsampling)\n",
      "\n",
      "    model.init_sims(replace=True)\n",
      "\n",
      "    model_name = \"{}features_{}minwords_{}context\"\\\n",
      "    .format(num_features, min_word_count, context)\n",
      "    model.save(model_name)"
     ],
     "language": "python",
     "metadata": {},
     "outputs": []
    },
    {
     "cell_type": "code",
     "collapsed": false,
     "input": [
      "train = pd.read_csv('../data/train.csv').fillna(\"\")\n",
      "test = pd.read_csv('../data/test.csv').fillna(\"\")\n",
      "idx = test.id.values.astype(int)\n",
      "train = train.drop('id', axis=1)\n",
      "test = test.drop('id', axis=1)\n",
      "y = train.median_relevance.values\n",
      "train = train.drop(['median_relevance', 'relevance_variance'], axis=1)\n",
      "\n",
      "# Extract sentences from descriptions of both training and test sets\n",
      "sentences = []\n",
      "\n",
      "print \"Parsing sentences from training set\"\n",
      "for description in train[\"product_description\"]:\n",
      "    sentences += description_to_sentences(description.decode(\"utf8\"), tokenizer)\n",
      "\n",
      "print \"Parsing sentences from unlabeled test set\"\n",
      "for description in test[\"product_description\"]:\n",
      "    sentences += description_to_sentences(description.decode(\"utf8\"), tokenizer)\n",
      "\n",
      "# Train Model    \n",
      "train_w2v(sentences)"
     ],
     "language": "python",
     "metadata": {},
     "outputs": []
    },
    {
     "cell_type": "code",
     "collapsed": false,
     "input": [
      "# Load and test trained model\n",
      "model = word2vec.Word2Vec.load(\"300features_10minwords_5context\")\n",
      "model.most_similar('lenovo')"
     ],
     "language": "python",
     "metadata": {},
     "outputs": []
    },
    {
     "cell_type": "code",
     "collapsed": false,
     "input": [
      "model.most_similar('winter')"
     ],
     "language": "python",
     "metadata": {},
     "outputs": []
    },
    {
     "cell_type": "code",
     "collapsed": false,
     "input": [
      "model.most_similar('red')"
     ],
     "language": "python",
     "metadata": {},
     "outputs": []
    },
    {
     "cell_type": "code",
     "collapsed": true,
     "input": [],
     "language": "python",
     "metadata": {},
     "outputs": []
    }
   ],
   "metadata": {}
  }
 ]
}